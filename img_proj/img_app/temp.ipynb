{
 "cells": [
  {
   "cell_type": "code",
   "execution_count": 2,
   "id": "97b55891-39e3-40af-9b1a-daea77334b9d",
   "metadata": {},
   "outputs": [],
   "source": [
    "import numpy as np\n",
    "from collections import defaultdict\n",
    "from scipy.spatial.distance import cdist\n",
    "import pickle as pk\n",
    "import gzip"
   ]
  },
  {
   "cell_type": "code",
   "execution_count": null,
   "id": "d3c20aa8-6df2-4bd5-97e9-06868c280b09",
   "metadata": {},
   "outputs": [],
   "source": [
    "rgb = [(x,y,z) for x in range(256) for y in  range(256) for z in range(256)]\n"
   ]
  },
  {
   "cell_type": "code",
   "execution_count": null,
   "id": "f04bfe6f-7f0c-4389-bb02-c73c34a9d15f",
   "metadata": {},
   "outputs": [],
   "source": [
    "def rgb_to_lab(color):\n",
    "   \n",
    "    num = 0\n",
    "    rgb = [0,0,0]\n",
    "    for clr in color:\n",
    "        clr = float(clr)/255\n",
    "        if clr > 0.04045:\n",
    "            clr = ((clr + 0.055)/1.055)**2.4\n",
    "        else:\n",
    "            clr/=12.92\n",
    "        rgb[num] = clr*100\n",
    "        num+=1\n",
    "    xyz = [0,0,0]\n",
    "    x  = rgb[0]*0.4124 + rgb[1]*0.3576 +rgb[2]*0.1805\n",
    "    y  = rgb[0]*0.2126 + rgb[1]*0.7152 +rgb[2]*0.0722\n",
    "    z  = rgb[0]*0.0193 + rgb[1]*0.1192 +rgb[2]*0.9505\n",
    "    \n",
    "\n",
    "    xyz[0] = round(x,4)\n",
    "    xyz[1] = round(y,4)\n",
    "    xyz[2] = round(z,4)\n",
    "\n",
    "    xyz[0] = float(xyz[0])/95.047\n",
    "    xyz[1] = float(xyz[1])/100.0\n",
    "    xyz[2] = float(xyz[2])/108.883\n",
    "    num = 0\n",
    "    for clr in xyz:\n",
    "        if clr>0.008856:\n",
    "            clr = clr**(0.3333333333333333)\n",
    "        else:\n",
    "            clr = (7.787*clr) + (16/116)\n",
    "        xyz[num] = clr\n",
    "        num+=1\n",
    "    lab = [0,0,0]\n",
    "    l = (116*xyz[1])-16\n",
    "    a = 500*(xyz[0]-xyz[1])\n",
    "    b = 200*(xyz[1]-xyz[2])\n",
    "    lab[0] = round(l,4)\n",
    "    lab[1] = round(a,4)\n",
    "    lab[2] = round(b,4)\n",
    "\n",
    "    \n",
    "    return lab"
   ]
  },
  {
   "cell_type": "code",
   "execution_count": null,
   "id": "7affd888-6082-4637-8b24-278a6614ffe3",
   "metadata": {},
   "outputs": [],
   "source": [
    "lab_colors = [tuple(rgb_to_lab(clr)) for clr in rgb]"
   ]
  },
  {
   "cell_type": "code",
   "execution_count": null,
   "id": "5bd23708-c69b-41ad-a2ca-ca6357005d04",
   "metadata": {},
   "outputs": [],
   "source": [
    "color_map = { \n",
    "    'Dark Red':(255,0,0),\n",
    "    'Light Red':(255,102,102),\n",
    "    'Dark Green':(0,102,51),\n",
    "    'Green':(0,255,0),\n",
    "    'Light Green':(51,255,51),\n",
    "    'Dark Blue':(0,0,204),\n",
    "    'Light Blue':(51,153,255),\n",
    "    'Sky Blue':(153,204,255),\n",
    "    'Light Yellow':(255,255,204),\n",
    "    'Dark Yellow':(255,255,0),\n",
    "    'Golden':(255,215,0),\n",
    "    'Black':(0,0,0),\n",
    "    'White':(255,255,255),\n",
    "    #'Silver':(192,192,192),\n",
    "    'Orange':(255,128,0),\n",
    "    'Pink':(255,0,255),\n",
    "    'Purple':(128,0,128),\n",
    "    'Grey':(224,224,224),\n",
    "    'Light Brown':(153,76,0),\n",
    "    'Chocolate':(102,51,0),\n",
    "    'Brown':(51,25,0),\n",
    "    'Dark Brown': (102,0,0),\n",
    "    'Maroon':(128,0,0),\n",
    "    'Cyan':(0,255,255),\n",
    "    'Magenta':(255,0,0),\n",
    "    'Teal':(0,153,153),\n",
    "    'Skin':(255,204,153),\n",
    "    'Cream':(255,229,204),\n",
    "    'Light Orange':(255,178,102),\n",
    "    'Parrot Green':(0,153,0),\n",
    "    'Navy Blue':(0,0,102),\n",
    "    'Redish Pink':(255,51,153)\n",
    "}"
   ]
  },
  {
   "cell_type": "code",
   "execution_count": null,
   "id": "5e1f75dd-93d5-4523-ba74-2ede2c86ad0c",
   "metadata": {},
   "outputs": [],
   "source": [
    "image_color_map = {key:tuple(rgb_to_lab(val)) for key, val in color_map.items()}"
   ]
  },
  {
   "cell_type": "code",
   "execution_count": null,
   "id": "bd8b7744-25dd-404f-959c-0e8f3fa652ee",
   "metadata": {},
   "outputs": [],
   "source": [
    "lookup = defaultdict(int)\n",
    "mp = {}\n",
    "key_colors = list(image_color_map.keys())\n",
    "val_colors_rgb = list(color_map.values())\n",
    "val_colors = np.array(list(image_color_map.values()))"
   ]
  },
  {
   "cell_type": "code",
   "execution_count": null,
   "id": "bbccad89-e1d3-46b5-a480-d096ff2717b6",
   "metadata": {},
   "outputs": [],
   "source": [
    "def get_color(color):\n",
    "    return 'rgb({},{},{})'.format(*color)"
   ]
  },
  {
   "cell_type": "code",
   "execution_count": null,
   "id": "a8abb68c-7ebd-4468-bda0-d39e6fce0ca3",
   "metadata": {},
   "outputs": [],
   "source": [
    "for clr in lab_colors :\n",
    "    if tuple(clr) in lookup:\n",
    "        dist = lookup[tuple(clr)]\n",
    "    else:\n",
    "        dist = np.argmin(cdist(np.array(val_colors),np.array(clr).reshape(-1,3), metric = 'cityblock'))\n",
    "        lookup[tuple(clr)] = dist\n",
    "    mp[clr] = get_color(color_map[key_colors[dist]])"
   ]
  },
  {
   "cell_type": "code",
   "execution_count": null,
   "id": "852f2e3c-2199-4400-a7e4-88bbf0c3c672",
   "metadata": {},
   "outputs": [],
   "source": [
    "\n",
    "with gzip.open('map.pkl.gz', 'wb') as f:\n",
    "    pk.dump(mp, f, protocol=pk.HIGHEST_PROTOCOL)"
   ]
  },
  {
   "cell_type": "code",
   "execution_count": null,
   "id": "a735b381-cb57-4eb0-82c1-e63edf886aaf",
   "metadata": {},
   "outputs": [],
   "source": [
    "rgb2lab_map = {clr:tuple(rgb_to_lab(clr)) for clr in rgb}"
   ]
  },
  {
   "cell_type": "code",
   "execution_count": null,
   "id": "97a062c1-b7f9-486e-8595-39292b2d607f",
   "metadata": {},
   "outputs": [],
   "source": [
    "import pickle\n",
    "import gzip\n",
    "\n",
    "# Save with gzip compression\n",
    "with gzip.open('maprgb2lab.pkl.gz', 'wb') as f:\n",
    "    pickle.dump(rgb2lab_map, f, protocol=pickle.HIGHEST_PROTOCOL)"
   ]
  },
  {
   "cell_type": "code",
   "execution_count": null,
   "id": "7c26505c-f4b8-4c5c-9fd4-2e87cc6dcc52",
   "metadata": {},
   "outputs": [],
   "source": [
    "# with open(\"maprgb2lab.pkl\", \"wb\") as file:\n",
    "#     pk.dump(rgb2lab_map, file)"
   ]
  },
  {
   "cell_type": "code",
   "execution_count": null,
   "id": "33e45a53-d577-4a9b-8343-3654f96cf716",
   "metadata": {},
   "outputs": [],
   "source": [
    "# import json\n",
    "\n",
    "# def map_dict(d):\n",
    "#     return {str(k): v for k, v in d.items()}\n",
    "\n",
    "\n",
    "# with open('rgb2lab_map.txt', 'w') as file:\n",
    "#     file.write(json.dumps(map_dict(rgb2lab_map)))"
   ]
  },
  {
   "cell_type": "code",
   "execution_count": null,
   "id": "6f65a8ff-e65b-4887-8891-77071e88ddf9",
   "metadata": {},
   "outputs": [],
   "source": [
    "with gzip.open('/home/chitranshbose/Downloads/python_prac/django/img_proj/img_app/map.pkl.gz', 'rb') as f:\n",
    "    color_map_complete = pk.load(f)\n",
    "with gzip.open('/home/chitranshbose/Downloads/python_prac/django/img_proj/img_app/maprgb2lab.pkl.gz', 'rb') as f:\n",
    "    maprgb2lab = pk.load(f)"
   ]
  },
  {
   "cell_type": "code",
   "execution_count": null,
   "id": "f1540909-2002-4f3f-bc38-0350cc0cd372",
   "metadata": {},
   "outputs": [],
   "source": [
    "res = {}\n",
    "for (rgb_key,lab_val), (lab_key,rgb_val) in zip(maprgb2lab.items(), color_map_complete.items()):\n",
    "    res[rgb_key] = rgb_val"
   ]
  },
  {
   "cell_type": "code",
   "execution_count": null,
   "id": "4ad7d740-82b3-403c-b3e6-08ea005cc03a",
   "metadata": {},
   "outputs": [],
   "source": [
    "with gzip.open('rgb_mapping.pkl.gz', 'wb') as f:\n",
    "    pk.dump(res, f, protocol=pk.HIGHEST_PROTOCOL)"
   ]
  },
  {
   "cell_type": "code",
   "execution_count": null,
   "id": "45260492-e03b-4fec-be5b-ef370af34697",
   "metadata": {},
   "outputs": [],
   "source": [
    "# with open(\"/home/chitranshbose/Downloads/python_prac/django/img_proj/img_app/map.pkl\", \"rb\") as file:\n",
    "#     color_map_complete = pk.load(file)\n",
    "#color_map_complete = joblib.load('/home/chitranshbose/Downloads/python_prac/django/img_proj/img_app/map.pkl')\n",
    "\n",
    "# with open(\"/home/chitranshbose/Downloads/python_prac/django/img_proj/img_app/maprgb2lab.pkl\", \"rb\") as file:\n",
    "#     maprgb2lab=pk.load(file)\n",
    "    \n",
    "#maprgb2lab = joblib.load('/home/chitranshbose/Downloads/python_prac/django/img_proj/img_app/maprgb2lab.pkl')\n",
    "# print(\"models loaded\")\n",
    "\n",
    "# with gzip.open('/home/chitranshbose/Downloads/python_prac/django/img_proj/img_app/map.pkl.gz', 'rb') as f:\n",
    "#     color_map_complete = pk.load(f)\n",
    "\n",
    "# with gzip.open('/home/chitranshbose/Downloads/python_prac/django/img_proj/img_app/maprgb2lab.pkl.gz', 'rb') as f:\n",
    "#     maprgb2lab = pk.load(f)"
   ]
  },
  {
   "cell_type": "code",
   "execution_count": null,
   "id": "d2c1e348-f401-4262-bd61-babf63b90d07",
   "metadata": {},
   "outputs": [],
   "source": [
    "from PIL import Image\n",
    "from time import time"
   ]
  },
  {
   "cell_type": "code",
   "execution_count": null,
   "id": "1391fcc0-4702-4d9f-b27f-2615c00118af",
   "metadata": {},
   "outputs": [],
   "source": [
    "img_path = \"/home/chitranshbose/Downloads/travel.jpg\"\n",
    "im = Image.open(img_path)\n",
    "w, h = im.size\n",
    "total = w*h\n",
    "img_colors = list(im.getdata())\n",
    "\n",
    "\n",
    "#img_colors_dict = Counter(img_colors)\n",
    "                "
   ]
  },
  {
   "cell_type": "code",
   "execution_count": null,
   "id": "139c2121-9da1-40ab-a0bf-f9553761490e",
   "metadata": {},
   "outputs": [],
   "source": [
    "img_clr = im.getcolors(maxcolors=256*256*256)"
   ]
  },
  {
   "cell_type": "code",
   "execution_count": null,
   "id": "76dc1051-51bb-48ac-890c-4ce9d28e7432",
   "metadata": {},
   "outputs": [],
   "source": [
    "img_clr"
   ]
  },
  {
   "cell_type": "code",
   "execution_count": null,
   "id": "4967f51f-c8c2-4dee-97f3-a628c44f9bcb",
   "metadata": {},
   "outputs": [],
   "source": [
    "help(im.getcolors)"
   ]
  },
  {
   "cell_type": "code",
   "execution_count": null,
   "id": "aacf372d-3dfb-443b-8bff-23561ad88c54",
   "metadata": {},
   "outputs": [],
   "source": [
    "dir(im.getcolors)"
   ]
  },
  {
   "cell_type": "code",
   "execution_count": null,
   "id": "063b872e-288a-46bf-92a9-95c730e24001",
   "metadata": {},
   "outputs": [],
   "source": [
    "img_path = \"/home/chitranshbose/Downloads/travel.jpg\"\n",
    "im = Image.open(img_path)\n",
    "w, h = im.size\n",
    "total = w*h\n",
    "st = time()\n",
    "img_colors = list(im.getcolors(maxcolors=256*256*256))\n",
    "print(time()-st)"
   ]
  },
  {
   "cell_type": "code",
   "execution_count": null,
   "id": "c6936f37-80c5-4763-8c5e-bdbee3456ecb",
   "metadata": {},
   "outputs": [],
   "source": [
    "img_colors_dict = {x[1]:x[0] for x in img_colors}"
   ]
  },
  {
   "cell_type": "code",
   "execution_count": null,
   "id": "20f05131-ae8b-486d-bc4f-159b2ec0f8ad",
   "metadata": {},
   "outputs": [],
   "source": [
    "img_colors_dict"
   ]
  },
  {
   "cell_type": "code",
   "execution_count": null,
   "id": "d135f92b-77cc-4689-b7d4-05fd29410c71",
   "metadata": {},
   "outputs": [],
   "source": [
    "\n",
    "\n",
    "\n",
    "img_colors\n",
    "res_st = t.time()\n",
    "# dt=np.dtype('int,int,int')\n",
    "# img_colors = np.array(img_colors,dtype=dt)\n",
    "\n",
    "img_colors_dict = Counter(img_colors)\n",
    "\n",
    "\n",
    "# unique, counts = np.unique(img_colors, return_counts=True)\n",
    "# print(f\"unique: {unique}\")\n",
    "# img_colors_dict = dict(zip(unique, counts))\n",
    "#print(f\"img_colors: {type(img_colors[0])}\\n\")\n",
    "\n",
    "res_en = t.time()\n",
    "print(f\"res time: {res_en-res_st}\")\n",
    "if img_obj.mode=='L':\n",
    "    return render(req, 'show_color_shades.html',{'form':form,'msg':\"The image is Grayscale.\"})\n",
    "\n",
    "count_map = defaultdict(int)\n",
    "\n",
    "\n",
    "for clr, cnt in img_colors_dict.items():\n",
    "    count_map[rgb_mapping[clr[:3]]] += cnt\n",
    "    \n",
    "                    \n",
    "\n",
    "#res = Counter({clr:round((count_map[clr]/total)*100,2) for clr,_ in count_map.items()})\n",
    "res = {}\n",
    "for clr,_ in count_map.items():\n",
    "    res[clr] = round((count_map[clr]/total)*100,2)\n",
    "\n",
    "res = Counter(res)\n",
    "\n",
    "\n",
    "k = min(len(res), int(req.POST['drop_down']))\n",
    "res = dict(res.most_common(k))"
   ]
  }
 ],
 "metadata": {
  "kernelspec": {
   "display_name": "Python 3 (ipykernel)",
   "language": "python",
   "name": "python3"
  },
  "language_info": {
   "codemirror_mode": {
    "name": "ipython",
    "version": 3
   },
   "file_extension": ".py",
   "mimetype": "text/x-python",
   "name": "python",
   "nbconvert_exporter": "python",
   "pygments_lexer": "ipython3",
   "version": "3.10.12"
  }
 },
 "nbformat": 4,
 "nbformat_minor": 5
}
